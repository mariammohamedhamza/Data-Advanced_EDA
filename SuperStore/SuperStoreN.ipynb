{
 "cells": [
  {
   "cell_type": "code",
   "execution_count": null,
   "id": "1172491f",
   "metadata": {},
   "outputs": [],
   "source": [
    "import pandas as pd\n",
    "# Importing pandas library for data manipulation and analysis\n",
    "import numpy as np\n",
    "import matplotlib.pyplot as plt\n",
    "# Importing matplotlib for data visualization\n",
    "import seaborn as sns"
   ]
  },
  {
   "cell_type": "code",
   "execution_count": null,
   "id": "b701a7c5",
   "metadata": {},
   "outputs": [],
   "source": [
    "df=pd.read_csv('/content/superstore.csv')\n",
    "# Reading the CSV file into a pandas DataFrame"
   ]
  },
  {
   "cell_type": "code",
   "execution_count": null,
   "id": "3a378d4b",
   "metadata": {},
   "outputs": [],
   "source": [
    "df.head()\n",
    "# Displaying the first few rows of the DataFrame"
   ]
  },
  {
   "cell_type": "markdown",
   "id": "b913286d",
   "metadata": {},
   "source": [
    "#Data Understanding "
   ]
  },
  {
   "cell_type": "code",
   "execution_count": null,
   "id": "efe9126e",
   "metadata": {},
   "outputs": [],
   "source": [
    "data=df.copy()"
   ]
  },
  {
   "cell_type": "code",
   "execution_count": null,
   "id": "48b33e87",
   "metadata": {},
   "outputs": [],
   "source": [
    "df.shape"
   ]
  },
  {
   "cell_type": "code",
   "execution_count": null,
   "id": "d7d6997d",
   "metadata": {},
   "outputs": [],
   "source": [
    "df.columns"
   ]
  },
  {
   "cell_type": "code",
   "execution_count": null,
   "id": "bb725c2b",
   "metadata": {},
   "outputs": [],
   "source": [
    "df.info()\n",
    "# Displaying a summary of the DataFrame including data types and non-null values"
   ]
  },
  {
   "cell_type": "code",
   "execution_count": null,
   "id": "78796a96",
   "metadata": {},
   "outputs": [],
   "source": [
    "df.describe()\n",
    "# Displaying descriptive statistics of numerical columns"
   ]
  },
  {
   "cell_type": "code",
   "execution_count": null,
   "id": "282e06a5",
   "metadata": {},
   "outputs": [],
   "source": [
    "columns_to_display = [\n",
    "    'Order.Priority', 'Product.ID', 'Product.Name', 'Profit',\n",
    "    'Quantity', 'Region', 'Row.ID'\n",
    "]\n",
    "\n",
    "df_selected = df[columns_to_display]\n",
    "df_selected.head()\n",
    "# Displaying the first few rows of the DataFrame"
   ]
  },
  {
   "cell_type": "code",
   "execution_count": null,
   "id": "1362815e",
   "metadata": {},
   "outputs": [],
   "source": [
    "df['Row.ID'].max()"
   ]
  },
  {
   "cell_type": "code",
   "execution_count": null,
   "id": "109a72ab",
   "metadata": {},
   "outputs": [],
   "source": [
    "df['Category'].value_counts()\n",
    "# Counting unique values in a column"
   ]
  },
  {
   "cell_type": "code",
   "execution_count": null,
   "id": "dcb866ab",
   "metadata": {},
   "outputs": [],
   "source": [
    "df.groupby('Category')['Profit'].sum().sort_values(ascending=False)    #EDA\n",
    "# Grouping data and calculating the sum for each group"
   ]
  },
  {
   "cell_type": "markdown",
   "id": "75a4ff0f",
   "metadata": {},
   "source": [
    "#Data Cleaning "
   ]
  },
  {
   "cell_type": "code",
   "execution_count": null,
   "id": "f4bdc6dc",
   "metadata": {},
   "outputs": [],
   "source": [
    "df.isna().sum()   #view missing value "
   ]
  },
  {
   "cell_type": "code",
   "execution_count": null,
   "id": "521e8af4",
   "metadata": {},
   "outputs": [],
   "source": [
    "df.drop('Customer.Name',inplace=True,axis=1)"
   ]
  },
  {
   "cell_type": "code",
   "execution_count": null,
   "id": "639b706c",
   "metadata": {},
   "outputs": [],
   "source": [
    "df.drop('记录数',inplace=True,axis=1)"
   ]
  },
  {
   "cell_type": "code",
   "execution_count": null,
   "id": "dacc0b06",
   "metadata": {},
   "outputs": [],
   "source": [
    "df.drop('Market',inplace=True,axis=1)"
   ]
  },
  {
   "cell_type": "code",
   "execution_count": null,
   "id": "14a8adad",
   "metadata": {},
   "outputs": [],
   "source": [
    "df['Customer.ID'] = df['Customer.ID'].str.replace(r'\\D', '', regex=True)      #remove char"
   ]
  },
  {
   "cell_type": "code",
   "execution_count": null,
   "id": "13d9715a",
   "metadata": {},
   "outputs": [],
   "source": [
    "df['Customer.ID'] = df['Customer.ID'].astype(int)   #change it to int "
   ]
  },
  {
   "cell_type": "code",
   "execution_count": null,
   "id": "7d644e37",
   "metadata": {},
   "outputs": [],
   "source": [
    "df['Order.Date'] = pd.to_datetime(df['Order.Date'])   #make it numeric "
   ]
  },
  {
   "cell_type": "code",
   "execution_count": null,
   "id": "c6c3c984",
   "metadata": {},
   "outputs": [],
   "source": [
    "df['Month_Order'] = df['Order.Date'].dt.month.astype(str).str.zfill(2)\n",
    "df['Day_Order'] = df['Order.Date'].dt.day.astype(str).str.zfill(2)               #make new columns (month,day )"
   ]
  },
  {
   "cell_type": "code",
   "execution_count": null,
   "id": "6e6531dd",
   "metadata": {},
   "outputs": [],
   "source": [
    "df.head()\n",
    "# Displaying the first few rows of the DataFrame"
   ]
  },
  {
   "cell_type": "code",
   "execution_count": null,
   "id": "825ed497",
   "metadata": {},
   "outputs": [],
   "source": [
    "df['Ship.Date'] = pd.to_datetime(df['Ship.Date'])   #make it numeric "
   ]
  },
  {
   "cell_type": "code",
   "execution_count": null,
   "id": "e77ac644",
   "metadata": {},
   "outputs": [],
   "source": [
    "df.head()\n",
    "# Displaying the first few rows of the DataFrame"
   ]
  },
  {
   "cell_type": "markdown",
   "id": "176f6745",
   "metadata": {},
   "source": [
    "#EDA"
   ]
  },
  {
   "cell_type": "code",
   "execution_count": null,
   "id": "963f1470",
   "metadata": {},
   "outputs": [],
   "source": [
    "# This code ranks product categories based on their average profit, from highest to lowest\n",
    "df.groupby('Category')['Profit'].mean().sort_values(ascending=False)"
   ]
  },
  {
   "cell_type": "code",
   "execution_count": null,
   "id": "e1165fa0",
   "metadata": {},
   "outputs": [],
   "source": [
    "df['Category'].value_counts()\n",
    "# Counting unique values in a column"
   ]
  },
  {
   "cell_type": "code",
   "execution_count": null,
   "id": "12c16d85",
   "metadata": {},
   "outputs": [],
   "source": [
    "# Step 1: Summarize total profit and quantity sold for each region\n",
    "region_summary = df.groupby('Region').agg(\n",
    "    Total_Profit=('Profit', 'sum'),         # Sum of profits per region\n",
    "    Total_Quantity=('Quantity', 'sum')      # Sum of quantities sold per region\n",
    ").reset_index()\n",
    "\n",
    "# Step 2: Find the most frequent category in each region\n",
    "top_category = (\n",
    "    df.groupby(['Region', 'Category'])\n",
    "    .size()                                  # Count how many times each category appears per region\n",
    "    .reset_index(name='Count')               # Convert the group count to a DataFrame\n",
    "    .sort_values(['Region', 'Count'], ascending=[True, False])  # Sort within each region by frequency\n",
    "    .drop_duplicates(subset='Region')        # Keep only the most frequent category per region\n",
    "    .rename(columns={'Category': 'Top_Category'})  # Rename the column for clarity\n",
    "    [['Region', 'Top_Category']]             # Select only needed columns\n",
    ")\n",
    "\n",
    "# Step 3: Merge the summary with the top category info\n",
    "final_result = pd.merge(region_summary, top_category, on='Region')\n",
    "\n",
    "# Step 4: Sort the result by total profit in descending order\n",
    "final_result = final_result.sort_values('Total_Profit', ascending=False).reset_index(drop=True)\n",
    "\n",
    "# Step 5: Display the final result\n",
    "print(final_result)\n"
   ]
  },
  {
   "cell_type": "code",
   "execution_count": null,
   "id": "1d3ed8ed",
   "metadata": {},
   "outputs": [],
   "source": [
    "ship_Classes=df['Ship.Mode'].value_counts()\n",
    "# Counting unique values in a column"
   ]
  },
  {
   "cell_type": "code",
   "execution_count": null,
   "id": "df1bd78c",
   "metadata": {},
   "outputs": [],
   "source": [
    "# Plotting a pie chart to show the distribution of shipping classes\n",
    "plt.pie(\n",
    "    ship_Classes,                      # Data values for each shipping class\n",
    "    labels=ship_Classes.index,        # Labels taken from the index (shipping class names)\n",
    "    startangle=90,                    # Rotate the start of the pie chart for better appearance\n",
    "    autopct='%1.1f%%'                 # Show percentage on each slice with 1 decimal\n",
    ")\n",
    "plt.title('Ship Classes Distribution')  # Title of the chart\n",
    "plt.show()                              # Display the pie chart\n"
   ]
  },
  {
   "cell_type": "code",
   "execution_count": null,
   "id": "d748f39d",
   "metadata": {},
   "outputs": [],
   "source": [
    "# Calculating the average sales for each year and sorting them from highest to lowest\n",
    "df.groupby('Year')['Sales'].mean().sort_values(ascending=False)\n"
   ]
  },
  {
   "cell_type": "code",
   "execution_count": null,
   "id": "e3fc35bf",
   "metadata": {},
   "outputs": [],
   "source": [
    "df.groupby('Year')['Profit'].sum().sort_values(ascending=False)\n",
    "# Grouping data and calculating the sum for each group"
   ]
  },
  {
   "cell_type": "code",
   "execution_count": null,
   "id": "f2b349b2",
   "metadata": {},
   "outputs": [],
   "source": [
    "# Counting how many times each product category appears in each year,\n",
    "# and sorting the counts within each year in descending order\n",
    "df.groupby('Year')['Category'].value_counts(ascending=False)\n"
   ]
  },
  {
   "cell_type": "code",
   "execution_count": null,
   "id": "f2fbbb74",
   "metadata": {},
   "outputs": [],
   "source": [
    "# Step 1: Calculate total profit for each (Year, Category) combination and sort\n",
    "yearly_profit = (\n",
    "    df.groupby(['Year', 'Category'])['Profit']\n",
    "    .sum()  # Sum of profits per category per year\n",
    "    .reset_index()\n",
    "    .sort_values(['Year', 'Profit'], ascending=[True, False])  # Sort by year and then by profit descending\n",
    ")\n",
    "\n",
    "# Step 2: Print results in a formatted way, separating each year with a line\n",
    "prev_year = None\n",
    "for _, row in yearly_profit.iterrows():\n",
    "    year = row['Year']\n",
    "    category = row['Category']\n",
    "    profit = row['Profit']\n",
    "\n",
    "    # Print a separator when moving to a new year\n",
    "    if year != prev_year and prev_year is not None:\n",
    "        print('##########')\n",
    "\n",
    "    # Print year, category, and profit\n",
    "    print(f\"{year} | {category} | Profit: {profit:.2f}\")\n",
    "    prev_year = year\n"
   ]
  },
  {
   "cell_type": "code",
   "execution_count": null,
   "id": "f0ecfd54",
   "metadata": {},
   "outputs": [],
   "source": [
    "# Creating a pivot table that counts the number of orders for each year and discount value.\n",
    "# Missing combinations are filled with 0. Columns (discount values) are sorted in descending order.\n",
    "df.pivot_table(\n",
    "    index='Year',                      # Rows represent each year\n",
    "    columns='Discount',               # Columns represent each unique discount value\n",
    "    aggfunc='size',                   # Count the number of records for each combination\n",
    "    fill_value=0                      # Replace NaNs with 0 for missing combinations\n",
    ").sort_index(axis=1, ascending=False) # Sort the discount columns from high to low\n"
   ]
  },
  {
   "cell_type": "code",
   "execution_count": null,
   "id": "b09afa32",
   "metadata": {},
   "outputs": [],
   "source": [
    "# Calculating the average profit for each discount value,\n",
    "# and sorting the results by discount value in descending order\n",
    "df.groupby('Discount')['Profit'].mean().sort_index(ascending=False)"
   ]
  },
  {
   "cell_type": "code",
   "execution_count": null,
   "id": "19c5d54e",
   "metadata": {},
   "outputs": [],
   "source": [
    "df['Discount'].value_counts().sort_index(ascending=False)\n",
    "# Counting unique values in a column"
   ]
  },
  {
   "cell_type": "code",
   "execution_count": null,
   "id": "093d3a72",
   "metadata": {},
   "outputs": [],
   "source": [
    "df.columns"
   ]
  },
  {
   "cell_type": "code",
   "execution_count": null,
   "id": "3af243eb",
   "metadata": {},
   "outputs": [],
   "source": [
    "# Convert the 'Order.Date' column to datetime format\n",
    "df['Order.Date'] = pd.to_datetime(df['Order.Date'])\n",
    "\n",
    "# Define the snapshot date as one day after the latest order date\n",
    "# This is often used as a reference point for customer analysis (e.g., RFM)\n",
    "snapshot_date = df['Order.Date'].max() + pd.Timedelta(days=1)\n"
   ]
  },
  {
   "cell_type": "code",
   "execution_count": null,
   "id": "b16b9dee",
   "metadata": {},
   "outputs": [],
   "source": [
    "# Step 1: Create RFM metrics for each customer\n",
    "rfm = df.groupby('Customer.ID').agg({\n",
    "    'Order.Date': lambda x: (snapshot_date - x.max()).days,  # Recency: Days since last purchase\n",
    "    'Order.ID': 'nunique',                                   # Frequency: Number of unique orders\n",
    "    'Profit': 'sum'                                          # Monetary: Total profit from the customer\n",
    "}).reset_index()\n",
    "\n",
    "# Step 2: Rename the columns to RFM standard names\n",
    "rfm.rename(columns={\n",
    "    'Order.Date': 'Recency',\n",
    "    'Order.ID': 'Frequency',\n",
    "    'Profit': 'Monetary'\n",
    "}, inplace=True)\n"
   ]
  },
  {
   "cell_type": "code",
   "execution_count": null,
   "id": "1effa941",
   "metadata": {},
   "outputs": [],
   "source": [
    "print(rfm.columns)"
   ]
  },
  {
   "cell_type": "code",
   "execution_count": null,
   "id": "e04f7834",
   "metadata": {},
   "outputs": [],
   "source": [
    "# Assign RFM scores from 1 to 5 based on quantiles\n",
    "\n",
    "# Recency score: Lower recency (more recent purchases) gets higher score (5 = best)\n",
    "df['R_score'] = pd.qcut(rfm['Recency'], 5, labels=[5, 4, 3, 2, 1])\n",
    "\n",
    "# Frequency score: Higher frequency gets higher score (5 = best)\n",
    "# .rank() used to handle ties in frequency values before binning\n",
    "df['F_score'] = pd.qcut(rfm['Frequency'].rank(method='first'), 5, labels=[1, 2, 3, 4, 5])\n",
    "\n",
    "# Monetary score: Higher monetary value gets higher score (5 = best)\n",
    "df['M_score'] = pd.qcut(rfm['Monetary'], 5, labels=[1, 2, 3, 4, 5])\n"
   ]
  },
  {
   "cell_type": "code",
   "execution_count": null,
   "id": "4eab37fc",
   "metadata": {},
   "outputs": [],
   "source": [
    "df.head()\n",
    "# Displaying the first few rows of the DataFrame"
   ]
  },
  {
   "cell_type": "code",
   "execution_count": null,
   "id": "29111f4b",
   "metadata": {},
   "outputs": [],
   "source": [
    "df.groupby('Country')['Customer.ID'].count().sort_values()    #new one"
   ]
  },
  {
   "cell_type": "code",
   "execution_count": null,
   "id": "bd3749b9",
   "metadata": {},
   "outputs": [],
   "source": [
    "#Year-over-Year Growth Rat\n",
    "profit_2011 = df[df['Year'] == 2011]['Profit'].sum()\n",
    "cost_2011 = df[df['Year'] == 2011]['Shipping.Cost'].sum()\n",
    "ratio_2011 = profit_2011 / cost_2011\n",
    "\n",
    "profit_2012 = df[df['Year'] == 2012]['Profit'].sum()\n",
    "cost_2012 = df[df['Year'] == 2012]['Shipping.Cost'].sum()\n",
    "ratio_2012 = profit_2012 / cost_2012\n",
    "\n",
    "profit_2013 = df[df['Year'] == 2013]['Profit'].sum()\n",
    "cost_2013 = df[df['Year'] == 2013]['Shipping.Cost'].sum()\n",
    "ratio_2013 = profit_2013 / cost_2013\n",
    "\n",
    "profit_2014 = df[df['Year'] == 2014]['Profit'].sum()\n",
    "cost_2014 = df[df['Year'] == 2014]['Shipping.Cost'].sum()\n",
    "ratio_2014 = profit_2014 / cost_2014"
   ]
  },
  {
   "cell_type": "code",
   "execution_count": null,
   "id": "944a1596",
   "metadata": {},
   "outputs": [],
   "source": [
    "print(f\"2011: {ratio_2011:.2f}\")\n",
    "print(f\"2012: {ratio_2012:.2f}\")\n",
    "print(f\"2013: {ratio_2013:.2f}\")\n",
    "print(f\"2014: {ratio_2014:.2f}\")"
   ]
  },
  {
   "cell_type": "code",
   "execution_count": null,
   "id": "5de19d2d",
   "metadata": {},
   "outputs": [],
   "source": [
    "# Converting yearly growth ratios into percentage change from the previous year\n",
    "\n",
    "percentage_2011 = (ratio_2011 - 1) * 100  # Percentage change in 2011\n",
    "percentage_2012 = (ratio_2012 - 1) * 100  # Percentage change in 2012\n",
    "percentage_2013 = (ratio_2013 - 1) * 100  # Percentage change in 2013\n",
    "percentage_2014 = (ratio_2014 - 1) * 100  # Percentage change in 2014"
   ]
  },
  {
   "cell_type": "code",
   "execution_count": null,
   "id": "52f183e6",
   "metadata": {},
   "outputs": [],
   "source": [
    "print(f\"2011: {percentage_2011:.2f}%\")\n",
    "print(f\"2012: {percentage_2012:.2f}%\")\n",
    "print(f\"2013: {percentage_2013:.2f}%\")\n",
    "print(f\"2014: {percentage_2014:.2f}%\")"
   ]
  },
  {
   "cell_type": "code",
   "execution_count": null,
   "id": "f90a2f52",
   "metadata": {},
   "outputs": [],
   "source": [
    "# Counting the number of orders per year by counting non-null entries in the 'Country' column\n",
    "df.groupby('Year')['Country'].count()\n"
   ]
  },
  {
   "cell_type": "code",
   "execution_count": null,
   "id": "2792e2d2",
   "metadata": {},
   "outputs": [],
   "source": [
    "# Counting the number of unique countries that placed orders in each year\n",
    "unique_countries_per_year = df.groupby('Year')['Country'].nunique()\n",
    "\n",
    "# Display the result\n",
    "unique_countries_per_year\n"
   ]
  },
  {
   "cell_type": "markdown",
   "id": "0fd0cf13",
   "metadata": {},
   "source": [
    "#Feature Engineering "
   ]
  },
  {
   "cell_type": "code",
   "execution_count": null,
   "id": "3bd8db35",
   "metadata": {},
   "outputs": [],
   "source": [
    "df.columns"
   ]
  },
  {
   "cell_type": "code",
   "execution_count": null,
   "id": "c6f7e490",
   "metadata": {},
   "outputs": [],
   "source": [
    "# Extract the weekday name from the order date (e.g., Monday, Tuesday, etc.)\n",
    "df['Order Weekday'] = df['Order.Date'].dt.day_name()\n",
    "\n",
    "# Calculate the delivery duration in days between the shipping date and the order date\n",
    "df['Delivery Days'] = (df['Ship.Date'] - df['Order.Date']).dt.days\n"
   ]
  },
  {
   "cell_type": "code",
   "execution_count": null,
   "id": "b3ecd70c",
   "metadata": {},
   "outputs": [],
   "source": [
    "# Calculate the profit made per individual item sold\n",
    "df['Profit per Item'] = df['Profit'] / df['Quantity']"
   ]
  },
  {
   "cell_type": "code",
   "execution_count": null,
   "id": "7e7dc33f",
   "metadata": {},
   "outputs": [],
   "source": [
    "# Calculate the price per individual item sold (unit price)\n",
    "df['Unit Price'] = df['Sales'] / df['Quantity']"
   ]
  },
  {
   "cell_type": "code",
   "execution_count": null,
   "id": "e50ebba8",
   "metadata": {},
   "outputs": [],
   "source": [
    "# Apply one-hot encoding to the 'Segment', 'Category', and 'Ship.Mode' columns\n",
    "# drop_first=True is used to avoid multicollinearity (dummy variable trap)\n",
    "df = pd.get_dummies(df, columns=['Segment', 'Category', 'Ship.Mode'], drop_first=True)"
   ]
  },
  {
   "cell_type": "code",
   "execution_count": null,
   "id": "17bea14d",
   "metadata": {},
   "outputs": [],
   "source": [
    "# Encode the 'Country' column by replacing each country with its average profit\n",
    "# This is a form of target (mean) encoding\n",
    "df['Country_encoded'] = df.groupby('Country')['Profit'].transform('mean')"
   ]
  },
  {
   "cell_type": "code",
   "execution_count": null,
   "id": "8c41b084",
   "metadata": {},
   "outputs": [],
   "source": [
    "# Encode the 'Product.Name' column by replacing each product with its average profit\n",
    "# This helps represent product performance numerically\n",
    "df['product_encoded'] = df.groupby('Product.Name')['Profit'].transform('mean')"
   ]
  },
  {
   "cell_type": "code",
   "execution_count": null,
   "id": "907ce604",
   "metadata": {},
   "outputs": [],
   "source": [
    "df.head()\n",
    "# Displaying the first few rows of the DataFrame"
   ]
  },
  {
   "cell_type": "code",
   "execution_count": null,
   "id": "99f2d14e",
   "metadata": {},
   "outputs": [],
   "source": [
    "# Grouping the data by 'Region' and calculating the total profit for each region\n",
    "df_region_profit = df.groupby('Region')['Profit'].sum().reset_index()\n",
    "\n",
    "# Sorting the regions by total profit in descending order\n",
    "df_region_profit = df_region_profit.sort_values(by='Profit', ascending=False)"
   ]
  },
  {
   "cell_type": "code",
   "execution_count": null,
   "id": "d17b66a4",
   "metadata": {},
   "outputs": [],
   "source": [
    "import plotly.express as px\n",
    "\n",
    "# Create a bar chart showing total profit by region\n",
    "fig = px.bar(\n",
    "    df_region_profit,\n",
    "    x='Region',\n",
    "    y='Profit',\n",
    "    title='Total Profit by Region',  # Chart title\n",
    "    labels={'Profit': 'Profit', 'Region': 'Region'},  # Axis labels\n",
    "    color='Profit',  # Color bars based on profit value\n",
    "    color_continuous_scale='Teal'  # Color scale\n",
    ")\n",
    "\n",
    "# Rotate x-axis labels for better readability\n",
    "fig.update_layout(xaxis_tickangle=-30)\n",
    "\n",
    "# Display the chart\n",
    "fig.show()\n"
   ]
  }
 ],
 "metadata": {
  "language_info": {
   "name": "python"
  }
 },
 "nbformat": 4,
 "nbformat_minor": 5
}
